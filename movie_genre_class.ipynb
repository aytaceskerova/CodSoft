{
 "cells": [
  {
   "cell_type": "code",
   "execution_count": 1,
   "id": "56db2566",
   "metadata": {},
   "outputs": [],
   "source": [
    "import pandas as pd\n",
    "import numpy as np\n",
    "import seaborn as sns\n",
    "import matplotlib.pyplot as plt\n",
    "import re  # for pattern matching and text manipulation.\n",
    "import string \n",
    "import nltk \n",
    "from sklearn.preprocessing import LabelEncoder\n",
    "from nltk.corpus import stopwords \n",
    "from nltk.tokenize import word_tokenize\n",
    "from nltk.stem import PorterStemmer, WordNetLemmatizer\n",
    "from sklearn.feature_extraction.text import CountVectorizer as CV\n",
    "from sklearn.feature_extraction.text import TfidfVectorizer\n",
    "from sklearn.svm import SVC\n",
    "from sklearn.linear_model import LogisticRegression\n",
    "from sklearn.tree import DecisionTreeClassifier\n",
    "from sklearn.ensemble import RandomForestClassifier\n",
    "from sklearn.naive_bayes import MultinomialNB\n",
    "from sklearn.metrics import accuracy_score\n",
    "from sklearn.metrics import classification_report, confusion_matrix\n",
    "from sklearn.model_selection import train_test_split \n",
    "from sklearn.metrics import accuracy_score "
   ]
  },
  {
   "cell_type": "code",
   "execution_count": 2,
   "id": "34977792",
   "metadata": {},
   "outputs": [],
   "source": [
    "train_data_path = 'C:\\\\Users\\\\Acer\\\\Downloads\\\\Genre Classification Dataset\\\\train_data.txt'\n",
    "test_data_path = 'C:\\\\Users\\\\Acer\\\\Downloads\\\\Genre Classification Dataset\\\\test_data.txt'"
   ]
  },
  {
   "cell_type": "code",
   "execution_count": 3,
   "id": "b736f2e2",
   "metadata": {},
   "outputs": [],
   "source": [
    "# Reading the training data\n",
    "train_data = pd.read_csv(train_data_path, delimiter=' ::: ', engine='python', names=[\"Id\", \"Movie\", \"Genre\", \"Description\"])\n",
    "test_data = pd.read_csv(test_data_path, delimiter=' ::: ', engine='python', names=['Id', 'Movie', 'Description'])"
   ]
  },
  {
   "cell_type": "code",
   "execution_count": 4,
   "id": "3f072ff1",
   "metadata": {},
   "outputs": [
    {
     "data": {
      "text/html": [
       "<div>\n",
       "<style scoped>\n",
       "    .dataframe tbody tr th:only-of-type {\n",
       "        vertical-align: middle;\n",
       "    }\n",
       "\n",
       "    .dataframe tbody tr th {\n",
       "        vertical-align: top;\n",
       "    }\n",
       "\n",
       "    .dataframe thead th {\n",
       "        text-align: right;\n",
       "    }\n",
       "</style>\n",
       "<table border=\"1\" class=\"dataframe\">\n",
       "  <thead>\n",
       "    <tr style=\"text-align: right;\">\n",
       "      <th></th>\n",
       "      <th>Id</th>\n",
       "      <th>Movie</th>\n",
       "      <th>Genre</th>\n",
       "      <th>Description</th>\n",
       "    </tr>\n",
       "  </thead>\n",
       "  <tbody>\n",
       "    <tr>\n",
       "      <th>0</th>\n",
       "      <td>1</td>\n",
       "      <td>Oscar et la dame rose (2009)</td>\n",
       "      <td>drama</td>\n",
       "      <td>Listening in to a conversation between his doc...</td>\n",
       "    </tr>\n",
       "    <tr>\n",
       "      <th>1</th>\n",
       "      <td>2</td>\n",
       "      <td>Cupid (1997)</td>\n",
       "      <td>thriller</td>\n",
       "      <td>A brother and sister with a past incestuous re...</td>\n",
       "    </tr>\n",
       "    <tr>\n",
       "      <th>2</th>\n",
       "      <td>3</td>\n",
       "      <td>Young, Wild and Wonderful (1980)</td>\n",
       "      <td>adult</td>\n",
       "      <td>As the bus empties the students for their fiel...</td>\n",
       "    </tr>\n",
       "    <tr>\n",
       "      <th>3</th>\n",
       "      <td>4</td>\n",
       "      <td>The Secret Sin (1915)</td>\n",
       "      <td>drama</td>\n",
       "      <td>To help their unemployed father make ends meet...</td>\n",
       "    </tr>\n",
       "    <tr>\n",
       "      <th>4</th>\n",
       "      <td>5</td>\n",
       "      <td>The Unrecovered (2007)</td>\n",
       "      <td>drama</td>\n",
       "      <td>The film's title refers not only to the un-rec...</td>\n",
       "    </tr>\n",
       "  </tbody>\n",
       "</table>\n",
       "</div>"
      ],
      "text/plain": [
       "   Id                             Movie     Genre  \\\n",
       "0   1      Oscar et la dame rose (2009)     drama   \n",
       "1   2                      Cupid (1997)  thriller   \n",
       "2   3  Young, Wild and Wonderful (1980)     adult   \n",
       "3   4             The Secret Sin (1915)     drama   \n",
       "4   5            The Unrecovered (2007)     drama   \n",
       "\n",
       "                                         Description  \n",
       "0  Listening in to a conversation between his doc...  \n",
       "1  A brother and sister with a past incestuous re...  \n",
       "2  As the bus empties the students for their fiel...  \n",
       "3  To help their unemployed father make ends meet...  \n",
       "4  The film's title refers not only to the un-rec...  "
      ]
     },
     "execution_count": 4,
     "metadata": {},
     "output_type": "execute_result"
    }
   ],
   "source": [
    "train_data.head()\n"
   ]
  },
  {
   "cell_type": "code",
   "execution_count": 5,
   "id": "7f5df3c6",
   "metadata": {},
   "outputs": [
    {
     "data": {
      "text/html": [
       "<div>\n",
       "<style scoped>\n",
       "    .dataframe tbody tr th:only-of-type {\n",
       "        vertical-align: middle;\n",
       "    }\n",
       "\n",
       "    .dataframe tbody tr th {\n",
       "        vertical-align: top;\n",
       "    }\n",
       "\n",
       "    .dataframe thead th {\n",
       "        text-align: right;\n",
       "    }\n",
       "</style>\n",
       "<table border=\"1\" class=\"dataframe\">\n",
       "  <thead>\n",
       "    <tr style=\"text-align: right;\">\n",
       "      <th></th>\n",
       "      <th>Id</th>\n",
       "      <th>Movie</th>\n",
       "      <th>Description</th>\n",
       "    </tr>\n",
       "  </thead>\n",
       "  <tbody>\n",
       "    <tr>\n",
       "      <th>0</th>\n",
       "      <td>1</td>\n",
       "      <td>Edgar's Lunch (1998)</td>\n",
       "      <td>L.R. Brane loves his life - his car, his apart...</td>\n",
       "    </tr>\n",
       "    <tr>\n",
       "      <th>1</th>\n",
       "      <td>2</td>\n",
       "      <td>La guerra de papá (1977)</td>\n",
       "      <td>Spain, March 1964: Quico is a very naughty chi...</td>\n",
       "    </tr>\n",
       "    <tr>\n",
       "      <th>2</th>\n",
       "      <td>3</td>\n",
       "      <td>Off the Beaten Track (2010)</td>\n",
       "      <td>One year in the life of Albin and his family o...</td>\n",
       "    </tr>\n",
       "    <tr>\n",
       "      <th>3</th>\n",
       "      <td>4</td>\n",
       "      <td>Meu Amigo Hindu (2015)</td>\n",
       "      <td>His father has died, he hasn't spoken with his...</td>\n",
       "    </tr>\n",
       "    <tr>\n",
       "      <th>4</th>\n",
       "      <td>5</td>\n",
       "      <td>Er nu zhai (1955)</td>\n",
       "      <td>Before he was known internationally as a marti...</td>\n",
       "    </tr>\n",
       "  </tbody>\n",
       "</table>\n",
       "</div>"
      ],
      "text/plain": [
       "   Id                        Movie  \\\n",
       "0   1         Edgar's Lunch (1998)   \n",
       "1   2     La guerra de papá (1977)   \n",
       "2   3  Off the Beaten Track (2010)   \n",
       "3   4       Meu Amigo Hindu (2015)   \n",
       "4   5            Er nu zhai (1955)   \n",
       "\n",
       "                                         Description  \n",
       "0  L.R. Brane loves his life - his car, his apart...  \n",
       "1  Spain, March 1964: Quico is a very naughty chi...  \n",
       "2  One year in the life of Albin and his family o...  \n",
       "3  His father has died, he hasn't spoken with his...  \n",
       "4  Before he was known internationally as a marti...  "
      ]
     },
     "execution_count": 5,
     "metadata": {},
     "output_type": "execute_result"
    }
   ],
   "source": [
    "test_data.head()"
   ]
  },
  {
   "cell_type": "code",
   "execution_count": 6,
   "id": "292feada",
   "metadata": {},
   "outputs": [
    {
     "data": {
      "text/plain": [
       "Id             0\n",
       "Movie          0\n",
       "Genre          0\n",
       "Description    0\n",
       "dtype: int64"
      ]
     },
     "execution_count": 6,
     "metadata": {},
     "output_type": "execute_result"
    }
   ],
   "source": [
    "train_data.isnull().sum()"
   ]
  },
  {
   "cell_type": "code",
   "execution_count": 7,
   "id": "283386cd",
   "metadata": {},
   "outputs": [
    {
     "data": {
      "text/plain": [
       "Id             0\n",
       "Movie          0\n",
       "Description    0\n",
       "dtype: int64"
      ]
     },
     "execution_count": 7,
     "metadata": {},
     "output_type": "execute_result"
    }
   ],
   "source": [
    "test_data.isnull().sum()"
   ]
  },
  {
   "cell_type": "code",
   "execution_count": 8,
   "id": "b951f3ad",
   "metadata": {},
   "outputs": [
    {
     "data": {
      "text/plain": [
       "(54200, 3)"
      ]
     },
     "execution_count": 8,
     "metadata": {},
     "output_type": "execute_result"
    }
   ],
   "source": [
    "test_data.shape"
   ]
  },
  {
   "cell_type": "code",
   "execution_count": 9,
   "id": "900bac55",
   "metadata": {},
   "outputs": [
    {
     "data": {
      "text/plain": [
       "0"
      ]
     },
     "execution_count": 9,
     "metadata": {},
     "output_type": "execute_result"
    }
   ],
   "source": [
    "train_data.duplicated().sum()"
   ]
  },
  {
   "cell_type": "code",
   "execution_count": 10,
   "id": "92ffee87",
   "metadata": {},
   "outputs": [
    {
     "data": {
      "text/plain": [
       "0"
      ]
     },
     "execution_count": 10,
     "metadata": {},
     "output_type": "execute_result"
    }
   ],
   "source": [
    "test_data.duplicated().sum()"
   ]
  },
  {
   "cell_type": "code",
   "execution_count": 11,
   "id": "ac4e3c6b",
   "metadata": {},
   "outputs": [],
   "source": [
    "train_data.drop(columns=['Movie'], inplace = True)\n",
    "test_data.drop(columns=['Movie'], inplace = True)\n",
    "train_data.drop(columns=['Id'], inplace = True)\n",
    "test_data.drop(columns=['Id'], inplace = True)\n"
   ]
  },
  {
   "cell_type": "code",
   "execution_count": 12,
   "id": "25c5ada8",
   "metadata": {},
   "outputs": [
    {
     "name": "stdout",
     "output_type": "stream",
     "text": [
      "<class 'pandas.core.frame.DataFrame'>\n",
      "RangeIndex: 54214 entries, 0 to 54213\n",
      "Data columns (total 2 columns):\n",
      " #   Column       Non-Null Count  Dtype \n",
      "---  ------       --------------  ----- \n",
      " 0   Genre        54214 non-null  object\n",
      " 1   Description  54214 non-null  object\n",
      "dtypes: object(2)\n",
      "memory usage: 847.2+ KB\n"
     ]
    }
   ],
   "source": [
    "train_data.info()"
   ]
  },
  {
   "cell_type": "code",
   "execution_count": 13,
   "id": "c70dbacd",
   "metadata": {},
   "outputs": [
    {
     "name": "stdout",
     "output_type": "stream",
     "text": [
      "<class 'pandas.core.frame.DataFrame'>\n",
      "RangeIndex: 54200 entries, 0 to 54199\n",
      "Data columns (total 1 columns):\n",
      " #   Column       Non-Null Count  Dtype \n",
      "---  ------       --------------  ----- \n",
      " 0   Description  54200 non-null  object\n",
      "dtypes: object(1)\n",
      "memory usage: 423.6+ KB\n"
     ]
    }
   ],
   "source": [
    "test_data.info()"
   ]
  },
  {
   "cell_type": "code",
   "execution_count": 14,
   "id": "4855831a",
   "metadata": {},
   "outputs": [
    {
     "data": {
      "text/plain": [
       "(54200, 1)"
      ]
     },
     "execution_count": 14,
     "metadata": {},
     "output_type": "execute_result"
    }
   ],
   "source": [
    "test_data.shape"
   ]
  },
  {
   "cell_type": "code",
   "execution_count": 15,
   "id": "ff1ef734",
   "metadata": {},
   "outputs": [
    {
     "data": {
      "text/plain": [
       "(54214, 2)"
      ]
     },
     "execution_count": 15,
     "metadata": {},
     "output_type": "execute_result"
    }
   ],
   "source": [
    "train_data.shape"
   ]
  },
  {
   "cell_type": "code",
   "execution_count": 16,
   "id": "8fe67d91",
   "metadata": {
    "scrolled": true
   },
   "outputs": [
    {
     "name": "stderr",
     "output_type": "stream",
     "text": [
      "[nltk_data] Downloading package stopwords to\n",
      "[nltk_data]     C:\\Users\\Acer\\AppData\\Roaming\\nltk_data...\n",
      "[nltk_data]   Package stopwords is already up-to-date!\n",
      "[nltk_data] Downloading package punkt to\n",
      "[nltk_data]     C:\\Users\\Acer\\AppData\\Roaming\\nltk_data...\n",
      "[nltk_data]   Package punkt is already up-to-date!\n"
     ]
    }
   ],
   "source": [
    "nltk.download('stopwords') \n",
    "nltk.download('punkt')     \n",
    "\n",
    "def clean_description(text):\n",
    "    text = text.lower()  \n",
    "    text = re.sub(r'@\\S+', '', text)  \n",
    "    text = re.sub(r'http\\S+', '', text)\n",
    "    text = re.sub(r'pic.\\S+', '', text) \n",
    "    text = re.sub(r\"[^a-zA-Z\\s']\", ' ', text) \n",
    "    text = re.sub(r'\\s+[a-zA-Z]\\s+', ' ', text)\n",
    "    text = re.sub(r'\\s+', ' ', text).strip()\n",
    "    tokens = word_tokenize(text)\n",
    "    stop_words = set(stopwords.words('english')) \n",
    "    text = ' '.join([word for word in tokens if word not in stop_words and len(word) > 2])  # Remove stopwords and keep words longer than 2 characters\n",
    "    return text\n"
   ]
  },
  {
   "cell_type": "code",
   "execution_count": 17,
   "id": "fbd1537d",
   "metadata": {},
   "outputs": [],
   "source": [
    "train_data['Description_cleaned'] = train_data['Description'].apply(clean_description)\n",
    "test_data['Description_cleaned'] = test_data['Description'].apply(clean_description)\n"
   ]
  },
  {
   "cell_type": "code",
   "execution_count": 18,
   "id": "efd87534",
   "metadata": {},
   "outputs": [
    {
     "name": "stdout",
     "output_type": "stream",
     "text": [
      "Index(['Genre', 'Description', 'Description_cleaned'], dtype='object')\n"
     ]
    }
   ],
   "source": [
    "# Ensure that the 'Genre' column is still present\n",
    "print(train_data.columns)\n"
   ]
  },
  {
   "cell_type": "code",
   "execution_count": 19,
   "id": "5b0bb0c7",
   "metadata": {},
   "outputs": [],
   "source": [
    "st = PorterStemmer()\n",
    "train_data['Description_cleaned'] = train_data['Description_cleaned'].apply(\n",
    "    lambda x: ' '.join([st.stem(word) for word in x.split()]))\n",
    "\n",
    "test_data['Description_cleaned'] = test_data['Description_cleaned'].apply(\n",
    "    lambda x: ' '.join([st.stem(word) for word in x.split()]))"
   ]
  },
  {
   "cell_type": "code",
   "execution_count": 20,
   "id": "e771c63b",
   "metadata": {},
   "outputs": [
    {
     "data": {
      "text/html": [
       "<div>\n",
       "<style scoped>\n",
       "    .dataframe tbody tr th:only-of-type {\n",
       "        vertical-align: middle;\n",
       "    }\n",
       "\n",
       "    .dataframe tbody tr th {\n",
       "        vertical-align: top;\n",
       "    }\n",
       "\n",
       "    .dataframe thead th {\n",
       "        text-align: right;\n",
       "    }\n",
       "</style>\n",
       "<table border=\"1\" class=\"dataframe\">\n",
       "  <thead>\n",
       "    <tr style=\"text-align: right;\">\n",
       "      <th></th>\n",
       "      <th>Genre</th>\n",
       "      <th>Description</th>\n",
       "      <th>Description_cleaned</th>\n",
       "      <th>length</th>\n",
       "      <th>length_cleaned</th>\n",
       "    </tr>\n",
       "  </thead>\n",
       "  <tbody>\n",
       "    <tr>\n",
       "      <th>0</th>\n",
       "      <td>drama</td>\n",
       "      <td>Listening in to a conversation between his doc...</td>\n",
       "      <td>listen convers doctor parent year old oscar le...</td>\n",
       "      <td>545</td>\n",
       "      <td>339</td>\n",
       "    </tr>\n",
       "    <tr>\n",
       "      <th>1</th>\n",
       "      <td>thriller</td>\n",
       "      <td>A brother and sister with a past incestuous re...</td>\n",
       "      <td>brother sister past incestu relationship curre...</td>\n",
       "      <td>183</td>\n",
       "      <td>111</td>\n",
       "    </tr>\n",
       "    <tr>\n",
       "      <th>2</th>\n",
       "      <td>adult</td>\n",
       "      <td>As the bus empties the students for their fiel...</td>\n",
       "      <td>bu empti student field trip museum natur histo...</td>\n",
       "      <td>649</td>\n",
       "      <td>343</td>\n",
       "    </tr>\n",
       "    <tr>\n",
       "      <th>3</th>\n",
       "      <td>drama</td>\n",
       "      <td>To help their unemployed father make ends meet...</td>\n",
       "      <td>help unemploy father make end meet edith twin ...</td>\n",
       "      <td>1081</td>\n",
       "      <td>678</td>\n",
       "    </tr>\n",
       "    <tr>\n",
       "      <th>4</th>\n",
       "      <td>drama</td>\n",
       "      <td>The film's title refers not only to the un-rec...</td>\n",
       "      <td>film titl refer recov bodi ground zero also st...</td>\n",
       "      <td>624</td>\n",
       "      <td>347</td>\n",
       "    </tr>\n",
       "  </tbody>\n",
       "</table>\n",
       "</div>"
      ],
      "text/plain": [
       "      Genre                                        Description  \\\n",
       "0     drama  Listening in to a conversation between his doc...   \n",
       "1  thriller  A brother and sister with a past incestuous re...   \n",
       "2     adult  As the bus empties the students for their fiel...   \n",
       "3     drama  To help their unemployed father make ends meet...   \n",
       "4     drama  The film's title refers not only to the un-rec...   \n",
       "\n",
       "                                 Description_cleaned  length  length_cleaned  \n",
       "0  listen convers doctor parent year old oscar le...     545             339  \n",
       "1  brother sister past incestu relationship curre...     183             111  \n",
       "2  bu empti student field trip museum natur histo...     649             343  \n",
       "3  help unemploy father make end meet edith twin ...    1081             678  \n",
       "4  film titl refer recov bodi ground zero also st...     624             347  "
      ]
     },
     "execution_count": 20,
     "metadata": {},
     "output_type": "execute_result"
    }
   ],
   "source": [
    "train_data['length'] = train_data['Description'].apply(len)\n",
    "train_data['length_cleaned']=train_data['Description_cleaned'].apply(len)\n",
    "train_data.head()"
   ]
  },
  {
   "cell_type": "code",
   "execution_count": 21,
   "id": "608622ec",
   "metadata": {},
   "outputs": [],
   "source": [
    "X_train,X_test,y_train,y_test = train_test_split(train_data['Description_cleaned'],train_data['Genre'],random_state=42,test_size=0.2)"
   ]
  },
  {
   "cell_type": "code",
   "execution_count": 22,
   "id": "e90523b0",
   "metadata": {},
   "outputs": [
    {
     "name": "stdout",
     "output_type": "stream",
     "text": [
      "19253    sex betray seduct manipul addict love hate van...\n",
      "12261    autist teen toni friendship cameron boy still ...\n",
      "37143    one hour special examin social ethnic religi e...\n",
      "21965    person narr documentari use bicycl ride work v...\n",
      "7033     easi go villag policeman artturi sakari reinik...\n",
      "                               ...                        \n",
      "11284    david cronenberg well known canadian director ...\n",
      "44732    adan neumann member jewish famili live berlin ...\n",
      "38158    miranda lesbian photograph guayaquil live buen...\n",
      "860      enemi profession live chiang chih heng 'melvin...\n",
      "15795    fashion design malan breton revisit birth rite...\n",
      "Name: Description_cleaned, Length: 43371, dtype: object\n"
     ]
    }
   ],
   "source": [
    "print(X_train)"
   ]
  },
  {
   "cell_type": "code",
   "execution_count": 23,
   "id": "e1b078e5",
   "metadata": {},
   "outputs": [],
   "source": [
    "# using TF-IDF\n",
    "vectorize = TfidfVectorizer(stop_words='english', max_features=100000)\n",
    "train_tfidf = vectorize.fit_transform(X_train)\n",
    "test_tfidf = vectorize.transform(X_test)\n",
    "ectorizer = TfidfVectorizer(stop_words='english', max_features=100000)"
   ]
  },
  {
   "cell_type": "code",
   "execution_count": 24,
   "id": "ed221cf5",
   "metadata": {},
   "outputs": [
    {
     "name": "stdout",
     "output_type": "stream",
     "text": [
      "0.5795444065295582\n"
     ]
    }
   ],
   "source": [
    "lr_reg = LogisticRegression(max_iter=1000, solver='lbfgs')\n",
    "lr_reg.fit(train_tfidf,y_train)\n",
    "y_pred_lr = lr_reg.predict(test_tfidf)\n",
    "lr_accuracy = accuracy_score(y_test, y_pred_lr)\n",
    "print(lr_accuracy)"
   ]
  },
  {
   "cell_type": "code",
   "execution_count": 25,
   "id": "9fd582cd",
   "metadata": {},
   "outputs": [
    {
     "name": "stdout",
     "output_type": "stream",
     "text": [
      "0.44065295582403397\n"
     ]
    }
   ],
   "source": [
    "NB_model = MultinomialNB()\n",
    "NB_model.fit(train_tfidf, y_train)\n",
    "y_pred_nb = NB_model.predict(test_tfidf)\n",
    "nb_accuracy= accuracy_score(y_test, y_pred_nb)\n",
    "print(nb_accuracy)"
   ]
  },
  {
   "cell_type": "code",
   "execution_count": 26,
   "id": "3dbb47c4",
   "metadata": {},
   "outputs": [
    {
     "name": "stdout",
     "output_type": "stream",
     "text": [
      "0.3474130775615605\n"
     ]
    }
   ],
   "source": [
    "from sklearn.tree import DecisionTreeClassifier\n",
    "classifier_tree = DecisionTreeClassifier(criterion = 'entropy', random_state = 0)\n",
    "classifier_tree.fit(train_tfidf, y_train)\n",
    "y_pred_tree = classifier_tree.predict(test_tfidf)\n",
    "tree_accuracy = accuracy_score(y_test, y_pred_tree)\n",
    "print(tree_accuracy)"
   ]
  },
  {
   "cell_type": "code",
   "execution_count": 27,
   "id": "8531fad8",
   "metadata": {},
   "outputs": [
    {
     "name": "stdout",
     "output_type": "stream",
     "text": [
      "0.3909434658304897\n"
     ]
    }
   ],
   "source": [
    "from sklearn.neighbors import KNeighborsClassifier\n",
    "classifier_kn = KNeighborsClassifier(n_neighbors = 5, metric = 'minkowski', p = 2)\n",
    "classifier_kn.fit(train_tfidf, y_train)\n",
    "y_pred_kn = classifier_kn.predict(test_tfidf)\n",
    "kn_accuracy= accuracy_score(y_test, y_pred_kn)\n",
    "print(kn_accuracy)"
   ]
  },
  {
   "cell_type": "code",
   "execution_count": 28,
   "id": "82b773a8",
   "metadata": {},
   "outputs": [
    {
     "name": "stdout",
     "output_type": "stream",
     "text": [
      "0.4273724983860555\n"
     ]
    }
   ],
   "source": [
    "from sklearn.ensemble import RandomForestClassifier\n",
    "classifier_rf = RandomForestClassifier(n_estimators = 10, criterion = 'entropy', random_state = 0)\n",
    "classifier_rf.fit(train_tfidf, y_train)\n",
    "y_pred_rf = classifier_rf.predict(test_tfidf)\n",
    "rf_accuracy = accuracy_score(y_test, y_pred_rf)\n",
    "print(rf_accuracy)"
   ]
  },
  {
   "cell_type": "code",
   "execution_count": null,
   "id": "b8398283",
   "metadata": {},
   "outputs": [],
   "source": [
    "from sklearn.svm import SVC\n",
    "classifier_svm = SVC(kernel = 'linear', random_state = 0)\n",
    "classifier_svm.fit(train_tfidf, y_train)\n",
    "y_pred_svm = classifier_svm.predict(test_tfidf)\n",
    "svm_accuracy = accuracy_score(y_test, y_pred_svm)\n",
    "print(svm_accuracy)"
   ]
  },
  {
   "cell_type": "code",
   "execution_count": null,
   "id": "6f6cf71b",
   "metadata": {},
   "outputs": [],
   "source": [
    "import matplotlib.pyplot as plt\n",
    "\n",
    "# Assuming you have already computed the accuracies for each classifier\n",
    "accuracies = {\n",
    "    'Logistic Regression': lr_accuracy,\n",
    "    'Naive Bayes': nb_accuracy,\n",
    "    'Decision Tree': tree_accuracy,\n",
    "    'K-Nearest Neighbors': kn_accuracy,\n",
    "    'Random Forest': rf_accuracy,\n",
    "    'SVM': svm_accuracy\n",
    "}\n",
    "\n",
    "# Create a bar plot for the classifier accuracies\n",
    "fig, ax = plt.subplots()\n",
    "ax.bar(accuracies.keys(), accuracies.values(), color='orange')\n",
    "ax.set_xlabel('Classifier')\n",
    "ax.set_ylabel('Accuracy')\n",
    "ax.set_title('Classifier Accuracy Comparison')\n",
    "plt.xticks(rotation=45)\n",
    "plt.ylim(0, 1)  # Accuracy ranges from 0 to 1\n",
    "\n",
    "# Show the plot\n",
    "plt.tight_layout()\n",
    "plt.show()\n"
   ]
  },
  {
   "cell_type": "code",
   "execution_count": null,
   "id": "2eb11441",
   "metadata": {},
   "outputs": [],
   "source": []
  },
  {
   "cell_type": "code",
   "execution_count": null,
   "id": "dfb1092f",
   "metadata": {},
   "outputs": [],
   "source": []
  },
  {
   "cell_type": "code",
   "execution_count": null,
   "id": "86409dfb",
   "metadata": {},
   "outputs": [],
   "source": []
  },
  {
   "cell_type": "code",
   "execution_count": null,
   "id": "1718ea3f",
   "metadata": {},
   "outputs": [],
   "source": []
  },
  {
   "cell_type": "code",
   "execution_count": null,
   "id": "0d27bcd5",
   "metadata": {},
   "outputs": [],
   "source": []
  },
  {
   "cell_type": "code",
   "execution_count": null,
   "id": "b4faaeff",
   "metadata": {},
   "outputs": [],
   "source": []
  },
  {
   "cell_type": "code",
   "execution_count": null,
   "id": "80563b9f",
   "metadata": {},
   "outputs": [],
   "source": []
  },
  {
   "cell_type": "code",
   "execution_count": null,
   "id": "24994cdc",
   "metadata": {},
   "outputs": [],
   "source": []
  },
  {
   "cell_type": "code",
   "execution_count": null,
   "id": "7d12a8ef",
   "metadata": {},
   "outputs": [],
   "source": []
  },
  {
   "cell_type": "code",
   "execution_count": null,
   "id": "32510da2",
   "metadata": {},
   "outputs": [],
   "source": []
  },
  {
   "cell_type": "code",
   "execution_count": null,
   "id": "28d2022e",
   "metadata": {},
   "outputs": [],
   "source": []
  },
  {
   "cell_type": "code",
   "execution_count": null,
   "id": "8a97f627",
   "metadata": {},
   "outputs": [],
   "source": []
  },
  {
   "cell_type": "code",
   "execution_count": null,
   "id": "ac0f304e",
   "metadata": {},
   "outputs": [],
   "source": []
  },
  {
   "cell_type": "code",
   "execution_count": null,
   "id": "32cffa8a",
   "metadata": {},
   "outputs": [],
   "source": []
  }
 ],
 "metadata": {
  "kernelspec": {
   "display_name": "Python 3 (ipykernel)",
   "language": "python",
   "name": "python3"
  },
  "language_info": {
   "codemirror_mode": {
    "name": "ipython",
    "version": 3
   },
   "file_extension": ".py",
   "mimetype": "text/x-python",
   "name": "python",
   "nbconvert_exporter": "python",
   "pygments_lexer": "ipython3",
   "version": "3.11.5"
  }
 },
 "nbformat": 4,
 "nbformat_minor": 5
}
